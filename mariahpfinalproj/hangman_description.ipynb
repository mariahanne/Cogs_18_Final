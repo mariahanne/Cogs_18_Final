{
 "cells": [
  {
   "cell_type": "markdown",
   "metadata": {},
   "source": [
    "# Python Hangman - Mariah Price"
   ]
  },
  {
   "cell_type": "markdown",
   "metadata": {},
   "source": [
    "This game is based off of a simple implementation from the following link\n",
    " https://www.pythonforbeginners.com/code-snippets-source-code/game-hangman"
   ]
  },
  {
   "cell_type": "markdown",
   "metadata": {},
   "source": [
    " I wanted to build useful functions to split up functionality, \n",
    " allow the user to continue playing many games,\n",
    " and to allow the ability to change the number of strikes"
   ]
  },
  {
   "cell_type": "markdown",
   "metadata": {},
   "source": [
    "To play the game, run the command `python hangman.py` in the project folder. The number of strikes and word list are hard coded in this file. The functions that the game uses are in the `hangman_module/functions.py` file. "
   ]
  },
  {
   "cell_type": "markdown",
   "metadata": {},
   "source": [
    "Also, some tests exist under `hangman_module/hangmantest.py`"
   ]
  }
 ],
 "metadata": {
  "kernelspec": {
   "display_name": "Python 3",
   "language": "python",
   "name": "python3"
  },
  "language_info": {
   "codemirror_mode": {
    "name": "ipython",
    "version": 3
   },
   "file_extension": ".py",
   "mimetype": "text/x-python",
   "name": "python",
   "nbconvert_exporter": "python",
   "pygments_lexer": "ipython3",
   "version": "3.7.3"
  }
 },
 "nbformat": 4,
 "nbformat_minor": 2
}
